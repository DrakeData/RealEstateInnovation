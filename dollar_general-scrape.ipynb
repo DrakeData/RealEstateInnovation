{
 "cells": [
  {
   "cell_type": "code",
   "execution_count": 1,
   "metadata": {},
   "outputs": [],
   "source": [
    "import PyPDF2\n",
    "import pandas as pd\n",
    "import re"
   ]
  },
  {
   "cell_type": "markdown",
   "metadata": {},
   "source": [
    "## Dollar General"
   ]
  },
  {
   "cell_type": "code",
   "execution_count": 2,
   "metadata": {},
   "outputs": [],
   "source": [
    "# load in PDF\n",
    "pdf_file_obj = open('Dollarg_test.pdf', 'rb')\n",
    "pdf_reader = PyPDF2.PdfFileReader(pdf_file_obj)"
   ]
  },
  {
   "cell_type": "code",
   "execution_count": 3,
   "metadata": {},
   "outputs": [
    {
     "data": {
      "text/plain": [
       "False"
      ]
     },
     "execution_count": 3,
     "metadata": {},
     "output_type": "execute_result"
    }
   ],
   "source": [
    "# to find out if the PDF is encrypted\n",
    "pdf_reader.isEncrypted"
   ]
  },
  {
   "cell_type": "code",
   "execution_count": 4,
   "metadata": {},
   "outputs": [
    {
     "data": {
      "text/plain": [
       "8"
      ]
     },
     "execution_count": 4,
     "metadata": {},
     "output_type": "execute_result"
    }
   ],
   "source": [
    "# show number of pages in PDF file\n",
    "pdf_reader.numPages"
   ]
  },
  {
   "cell_type": "code",
   "execution_count": 5,
   "metadata": {},
   "outputs": [
    {
     "data": {
      "text/plain": [
       "'FINANCIAL OVERVIEWLease TypeAbsolute NNNRoof & StructureTenant ResponsibleLease Term15 YearsRent Commencement5/29/2017Increases10% at Each OptionOptionsFive, 5-YearOption to TerminateNoneOption to PurchaseNoneRight of First RefusalNoneLEASE SUMMARYRENT SCHEDULETERMANNUAL RENTMONTHLY RENTYear 1-15$78,780$6,565Option 1$86,664$7,222Option 2$95,328$7,944Option 3$104,856$8,738Option 4$115,344$9,612Option 5$126,876$10,573Address:107 Woodcrest Road (Hwy 520), Sylvester, GA 31791Price$1,167,000Cap Rate6.75%Gross Leasable Area9,100 SFYear Built2017Lot Size1.512 +/- AcresType of OwnershipFee Simple'"
      ]
     },
     "execution_count": 5,
     "metadata": {},
     "output_type": "execute_result"
    }
   ],
   "source": [
    "# extract text from page 2\n",
    "page_obj = pdf_reader.getPage(1)\n",
    "page2 = page_obj.extractText()\n",
    "page2"
   ]
  },
  {
   "cell_type": "code",
   "execution_count": 7,
   "metadata": {},
   "outputs": [
    {
     "data": {
      "text/plain": [
       "'Price$1,167,000Cap Rate6.75%Gross Leasable Area9,100 SFYear Built2017Lot Size1.512 +/- AcresType of OwnershipFee Simple'"
      ]
     },
     "execution_count": 7,
     "metadata": {},
     "output_type": "execute_result"
    }
   ],
   "source": [
    "# only pulling in 'price', 'cap rate', 'gross leasdable area', 'year bult', 'lot size', and 'type of ownership'\n",
    "page2 = page2[238:]\n",
    "page2"
   ]
  },
  {
   "cell_type": "code",
   "execution_count": 9,
   "metadata": {},
   "outputs": [
    {
     "name": "stdout",
     "output_type": "stream",
     "text": [
      " Price$1,167,000 Cap  Rate6.75% Gross  Leasable  Area9,100  S F Year  Built2017 Lot  Size1.512 +/-  Acres Type of  Ownership Fee  Simple\n"
     ]
    }
   ],
   "source": [
    "print(re.sub('([A-Z])', r' \\1', page2))"
   ]
  },
  {
   "cell_type": "code",
   "execution_count": null,
   "metadata": {},
   "outputs": [],
   "source": []
  },
  {
   "cell_type": "markdown",
   "metadata": {},
   "source": [
    "### Test PDFMiner"
   ]
  },
  {
   "cell_type": "code",
   "execution_count": 25,
   "metadata": {},
   "outputs": [],
   "source": [
    "import io\n",
    "from pdfminer.pdfinterp import PDFResourceManager, PDFPageInterpreter\n",
    "from pdfminer.converter import TextConverter\n",
    "from pdfminer.layout import LAParams\n",
    "from pdfminer.pdfpage import PDFPage\n",
    "from io import StringIO"
   ]
  },
  {
   "cell_type": "code",
   "execution_count": 26,
   "metadata": {},
   "outputs": [
    {
     "name": "stdout",
     "output_type": "stream",
     "text": [
      "Offering MemorandumREPRESENTATIVE PHOTODOLLAR GENERALSYLVESTER, GEORGIA\f",
      "This information has been secured from sources we believe to be reliable, but we make no representations or warranties, expressed or implied, as to the accuracy of the information. References to square footage or age are approximate. Buyer must verify the information and bears all risk for any inaccuracies. Any projections, opinions, assumptions or estimates used herein are for example purposes only and do not represent the current or future performance of the property. Marcus & Millichap Real Estate Investment Services is a service mark of Marcus & Millichap Real Estate Investment Services, Inc. © 2017 Marcus & Millichap ACT ID  Y0090164FINANCIAL OVERVIEWLease TypeAbsolute NNNRoof & StructureTenant ResponsibleLease Term15 YearsRent Commencement5/29/2017Increases10% at Each OptionOptionsFive, 5-YearOption to TerminateNoneOption to PurchaseNoneRight of First RefusalNoneLEASE SUMMARYRENT SCHEDULETERMANNUAL RENTMONTHLY RENTYear 1-15$78,780$6,565Option 1$86,664$7,222Option 2$95,328$7,944Option 3$104,856$8,738Option 4$115,344$9,612Option 5$126,876$10,573Address:107 Woodcrest Road (Hwy 520), Sylvester, GA 31791Price$1,167,000Cap Rate6.75%Gross Leasable Area9,100 SFYear Built2017Lot Size1.512 +/- AcresType of OwnershipFee Simple\f",
      "INVESTMENT OVERVIEWINVESTMENT HIGHLIGHTS• 15-Year Absolute NNN Lease • Corporate Guaranty, Investment Grade Credit • Brand New 2017 Construction • 27,078 Residents in Trade Area• Average Household Income Exceeds $56,000 within 3 and 5 Miles • Highly Visible to 16,300 Cars/Day • Hard Corner Location on Large 1.5-Acre Lot• Serving 7,100 Students at Albany State University • Just East of Marine Corps Logistics Base with 5,000 Employees• Close Proximity to 1,400 Employees at MillerCoors Brewery and the Procter & Gamble Plant • Limited Competition, Nearest Dollar Store is Over 6 Miles Away• 10% Increases in Each of the Option Periods DEMOGRAPHICSPOPULATION3-MILES5-MILES10-MILES2010 Population1,7514,93227,0882014 Population1,7414,90827,078HOUSEHOLDS2010 Households6251,80310,1622014 Households6241,80010,193INCOME2015 Median Household Income$41,888$41,653$32,5512015 Per Capita Income$20,308$21,766$17,6762015 Average Household Income$56,471$56,158$45,696AREA OVERVIEWSylvester is the county seat of Worth County in Southwest Georgia.  Sylvester is predominantly an agriculture economy, growing peanuts, cotton, corn, pecans and produce.  It is often dubbed the “Peanut Capital of the World” due to our peanut production. Agribusiness is Georgia’s leading industry. The state’s agribusiness as a whole contributes a $56.7 billion impact to the state’s economy and Sylvester and Worth County alone generate $125 million through agriculture-based business. A long-standing Sylvester industry Con-Agra is the manufacturer of Peter Pan peanut butter. All the Peter Pan produced for domestic and international markets is made here in Sylvester.  Consequently, Con-Agra is a major employer for the local workforce, along with the local school system and health services. The Peanut Festival is an annual festival held on the third weekend of October in T.C. Jeffords Park to celebrate the city’s status as Peanut Capital of the World. The event is sponsored by the Sylvester/Worth Chamber of Commerce and ConAgra Foods, makers of Peter Pan peanut butter. Activities include one of the largest parades in the southeast and a beauty pageant with up to 100 contestants. Craftsmen from all over the state come to Sylvester to showcase their creations at the festival.\f",
      "This information has been secured from sources we believe to be reliable, but we make no representations or warranties, expressed or implied, as to the accuracy of the information. References to square footage or age are approximate. Buyer must verify the information and bears all risk for any inaccuracies. Any projections, opinions, assumptions or estimates used herein are for example purposes only and do not represent the current or future performance of the property. Marcus & Millichap Real Estate Investment Services is a service mark of Marcus & Millichap Real Estate Investment Services, Inc. © 2017 Marcus & Millichap ACT ID  Y0090164TENANT OVERVIEWDollar General makes shopping for everyday needs simple and hassle-free by saving customers time and money with small neighborhood stores and carefully edited merchandise. Offering the most popular brands at everyday low prices, Dollar General ranks amongst the largest retailers of top-quality brands including Proctor & Gamble, Kimberly Clark, Unilever, Kellogg’s, General Mills, and Nabisco. Dollar General has over 12,500 locations in 43 states, making it the nation’s largest smallbox discount retailer in the U.S.OwnershipPublicTenantCorporateSales Volume$20.369 BillionStock SymbolNYSE: DGCredit RatingStandard & Poor’s: BBBwww.dollargeneral.com2015 Fortune 500#159Headquartered inGoodlettsville,Tennessee12,500Locations inCountry’s Largest Smallbox Discount Retailer43StatesABOUT DOLLAR GENERALREPRESENTATIVE PHOTO\f",
      "SITE PLANDumpsterWOODCREST ROADSTATE HIGHWAY 520\f",
      "REGIONAL MAPSUBJECT PROPERTY\f",
      "CONFIDENTIALITY & DISCLAIMERThe information contained in the following Marketing Brochure is proprietary and strictly confidential. It is intended to be reviewed only by the party receiving it from Marcus & Millichap and should not be made available to any other person or entity without the written consent of Marcus & Millichap. This Marketing Brochure has been prepared to provide summary, unverified information to prospective purchasers, and to establish only a preliminary level of interest in the subject property. The information contained herein is not a substitute for a thorough due diligence investigation. Marcus & Millichap has not made any investigation, and makes no warranty or representation, with respect to the income or expenses for the subject property, the future projected financial performance of the property, the size and square footage of the property and improvements, the presence or absence of contaminating substances, PCB’s or asbestos, the compliance with State and Federal regulations, the physical condition of the improvements thereon, or the financial condition or business prospects of any tenant, or any tenant’s plans or intentions to continue its occupancy of the subject property. The information contained in this Marketing Brochure has been obtained from sources we believe to be reliable; however, Marcus & Millichap has not verified, and will not verify, any of the information contained herein, nor has Marcus & Millichap conducted any investigation regarding these matters and makes no warranty or representation whatsoever regarding the accuracy or completeness of the information provided. All potential buyers must take appropriate measures to verify all of the information set forth herein.NON-ENDORSEMENT NOTICEMarcus & Millichap is not affiliated with, sponsored by, or endorsed by any commercial tenant or lessee identified in this marketing package. The presence of any corporation’s logo or name is not intended to indicate or imply affiliation with, or sponsorship or endorsement by, said corporation of Marcus & Millichap, its affiliates or subsidiaries, or any agent, product, service, or commercial listing of Marcus & Millichap, and is solely included for the purpose of providing tenant lessee information about this listing to prospective customers.NET-LEASED DISCLAIMERMarcus & Millichap hereby advises all prospective purchasers of Net Leased property as follows:The information contained in this Marketing Brochure has been obtained from sources we believe to be reliable.  However, Marcus & Millichap has not and will not verify any of this information, nor has Marcus & Millichap conducted any investigation regarding these matters.  Marcus & Millichap makes no guarantee, warranty or representation whatsoever about the accuracy or completeness of any information provided.As the Buyer of a net leased property, it is the Buyer’s responsibility to independently confirm the accuracy and completeness of all material information before completing any purchase.  This Marketing Brochure is not a substitute for your thorough due diligence investigation of this investment opportunity.  Marcus & Millichap expressly denies any obligation to conduct a due diligence examination of this Property for Buyer.Any projections, opinions, assumptions or estimates used in this Marketing Brochure are for example only and do not represent the current or future performance of this property.  The value of a net leased property to you depends on factors that should be evaluated by you and your tax, financial and legal advisors. Buyer and Buyer’s tax, financial, legal, and construction advisors should conduct a careful, independent investigation of any net leased property to determine to your satisfaction with the suitability of the property for your needs.Like all real estate investments, this investment carries significant risks.  Buyer and Buyer’s legal and financial advisors must request and carefully review all legal and financial documents related to the property and tenant.  While the tenant’s past performance at this or other locations is an important consideration, it is not a guarantee of future success.  Similarly, the lease rate for some properties, including newly-constructed facilities or newly-acquired locations, may be set based on a tenant’s projected sales with little or no record of actual performance, or comparable rents for the area.  Returns are not guaranteed; the tenant and any guarantors may fail to pay the lease rent or property taxes, or may fail to comply with other material terms of the lease; cash flow may be interrupted in part or in whole due to market, economic, environmental or other conditions.  Regardless of tenant history and lease guarantees, Buyer is responsible for conducting his/her own investigation of all matters affecting the intrinsic value of the property and the value of any long-term lease, including the likelihood of locating a replacement tenant if the current tenant should default or abandon the property, and the lease terms that Buyer may be able to negotiate with a potential replacement tenant considering the location of the property, and Buyer’s legal ability to make alternate use of the property.By accepting this Marketing Brochure you agree to release Marcus & Millichap Real Estate Investment Services and hold it harmless from any kind of claim, cost, expense, or liability arising out of your investigation and/or purchase of this net leased property.\f",
      "exclusive offeringOFFICES NATIONWIDEwww.marcusmillichap.com\f",
      "\n"
     ]
    }
   ],
   "source": [
    "# Pull all text from PDF\n",
    "\n",
    "def extract_text_from_pdf(pdf_path):\n",
    "    resource_manager = PDFResourceManager()\n",
    "    fake_file_handle = io.StringIO()\n",
    "    converter = TextConverter(resource_manager, fake_file_handle)\n",
    "    page_interpreter = PDFPageInterpreter(resource_manager, converter)\n",
    " \n",
    "    with open('Dollarg_test.pdf', 'rb') as fh:\n",
    "        for page in PDFPage.get_pages(fh, \n",
    "                                      caching=True,\n",
    "                                      check_extractable=True):\n",
    "            page_interpreter.process_page(page)\n",
    " \n",
    "        text = fake_file_handle.getvalue()\n",
    " \n",
    "    # close open handles\n",
    "    converter.close()\n",
    "    fake_file_handle.close()\n",
    " \n",
    "    if text:\n",
    "        return text\n",
    " \n",
    "if __name__ == '__main__':\n",
    "    print(extract_text_from_pdf('w9.pdf'))"
   ]
  },
  {
   "cell_type": "code",
   "execution_count": null,
   "metadata": {},
   "outputs": [],
   "source": []
  }
 ],
 "metadata": {
  "kernelspec": {
   "display_name": "Python 3",
   "language": "python",
   "name": "python3"
  },
  "language_info": {
   "codemirror_mode": {
    "name": "ipython",
    "version": 3
   },
   "file_extension": ".py",
   "mimetype": "text/x-python",
   "name": "python",
   "nbconvert_exporter": "python",
   "pygments_lexer": "ipython3",
   "version": "3.6.8"
  }
 },
 "nbformat": 4,
 "nbformat_minor": 2
}
