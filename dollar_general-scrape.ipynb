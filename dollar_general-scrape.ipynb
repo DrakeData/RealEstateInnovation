{
 "cells": [
  {
   "cell_type": "code",
   "execution_count": 8,
   "metadata": {},
   "outputs": [],
   "source": [
    "import PyPDF2\n",
    "import pandas as pd\n",
    "import re"
   ]
  },
  {
   "cell_type": "markdown",
   "metadata": {},
   "source": [
    "## Dollar General"
   ]
  },
  {
   "cell_type": "code",
   "execution_count": 2,
   "metadata": {},
   "outputs": [],
   "source": [
    "# load in PDF\n",
    "pdf_file_obj = open('Dollarg_test.pdf', 'rb')\n",
    "pdf_reader = PyPDF2.PdfFileReader(pdf_file_obj)"
   ]
  },
  {
   "cell_type": "code",
   "execution_count": 3,
   "metadata": {},
   "outputs": [
    {
     "data": {
      "text/plain": [
       "False"
      ]
     },
     "execution_count": 3,
     "metadata": {},
     "output_type": "execute_result"
    }
   ],
   "source": [
    "# to find out if the PDF is encrypted\n",
    "pdf_reader.isEncrypted"
   ]
  },
  {
   "cell_type": "code",
   "execution_count": 4,
   "metadata": {},
   "outputs": [
    {
     "data": {
      "text/plain": [
       "8"
      ]
     },
     "execution_count": 4,
     "metadata": {},
     "output_type": "execute_result"
    }
   ],
   "source": [
    "# show number of pages in PDF file\n",
    "pdf_reader.numPages"
   ]
  },
  {
   "cell_type": "code",
   "execution_count": 5,
   "metadata": {},
   "outputs": [
    {
     "data": {
      "text/plain": [
       "'FINANCIAL OVERVIEWLease TypeAbsolute NNNRoof & StructureTenant ResponsibleLease Term15 YearsRent Commencement5/29/2017Increases10% at Each OptionOptionsFive, 5-YearOption to TerminateNoneOption to PurchaseNoneRight of First RefusalNoneLEASE SUMMARYRENT SCHEDULETERMANNUAL RENTMONTHLY RENTYear 1-15$78,780$6,565Option 1$86,664$7,222Option 2$95,328$7,944Option 3$104,856$8,738Option 4$115,344$9,612Option 5$126,876$10,573Address:107 Woodcrest Road (Hwy 520), Sylvester, GA 31791Price$1,167,000Cap Rate6.75%Gross Leasable Area9,100 SFYear Built2017Lot Size1.512 +/- AcresType of OwnershipFee Simple'"
      ]
     },
     "execution_count": 5,
     "metadata": {},
     "output_type": "execute_result"
    }
   ],
   "source": [
    "# extract text from page 2\n",
    "page_obj = pdf_reader.getPage(1)\n",
    "page2 = page_obj.extractText()\n",
    "page2"
   ]
  },
  {
   "cell_type": "code",
   "execution_count": 7,
   "metadata": {},
   "outputs": [
    {
     "data": {
      "text/plain": [
       "'Price$1,167,000Cap Rate6.75%Gross Leasable Area9,100 SFYear Built2017Lot Size1.512 +/- AcresType of OwnershipFee Simple'"
      ]
     },
     "execution_count": 7,
     "metadata": {},
     "output_type": "execute_result"
    }
   ],
   "source": [
    "# only pulling in 'price', 'cap rate', 'gross leasdable area', 'year bult', 'lot size', and 'type of ownership'\n",
    "page2 = page2[238:]\n",
    "page2"
   ]
  },
  {
   "cell_type": "code",
   "execution_count": 9,
   "metadata": {},
   "outputs": [
    {
     "name": "stdout",
     "output_type": "stream",
     "text": [
      " Price$1,167,000 Cap  Rate6.75% Gross  Leasable  Area9,100  S F Year  Built2017 Lot  Size1.512 +/-  Acres Type of  Ownership Fee  Simple\n"
     ]
    }
   ],
   "source": [
    "print(re.sub('([A-Z])', r' \\1', page2))"
   ]
  },
  {
   "cell_type": "code",
   "execution_count": null,
   "metadata": {},
   "outputs": [],
   "source": []
  },
  {
   "cell_type": "markdown",
   "metadata": {},
   "source": [
    "### Test tabula"
   ]
  },
  {
   "cell_type": "code",
   "execution_count": null,
   "metadata": {},
   "outputs": [],
   "source": [
    "from tabula import read_pdf"
   ]
  },
  {
   "cell_type": "code",
   "execution_count": null,
   "metadata": {},
   "outputs": [],
   "source": [
    "df = read_pdf('Dollarg_test.pdf', encoding = 'utf-8', spreadsheet = True, pages = '1')"
   ]
  },
  {
   "cell_type": "code",
   "execution_count": null,
   "metadata": {},
   "outputs": [],
   "source": [
    "df"
   ]
  }
 ],
 "metadata": {
  "kernelspec": {
   "display_name": "Python 3",
   "language": "python",
   "name": "python3"
  },
  "language_info": {
   "codemirror_mode": {
    "name": "ipython",
    "version": 3
   },
   "file_extension": ".py",
   "mimetype": "text/x-python",
   "name": "python",
   "nbconvert_exporter": "python",
   "pygments_lexer": "ipython3",
   "version": "3.6.8"
  }
 },
 "nbformat": 4,
 "nbformat_minor": 2
}
